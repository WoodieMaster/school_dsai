{
 "cells": [
  {
   "metadata": {},
   "cell_type": "markdown",
   "source": [
    "# Python Intro\n",
    "\n",
    "created by Guido van Rossum"
   ],
   "id": "8a77807f92f26ee"
  },
  {
   "metadata": {
    "ExecuteTime": {
     "end_time": "2024-09-24T10:43:05.214443Z",
     "start_time": "2024-09-24T10:43:01.597741Z"
    }
   },
   "cell_type": "code",
   "source": [
    "import sys\n",
    "\n",
    "from scipy.signal import abcd_normalize\n",
    "\n",
    "print(sys.version)"
   ],
   "id": "7df9140457caed5e",
   "outputs": [
    {
     "name": "stdout",
     "output_type": "stream",
     "text": [
      "3.12.0 (tags/v3.12.0:0fb18b0, Oct  2 2023, 13:03:39) [MSC v.1935 64 bit (AMD64)]\n"
     ]
    }
   ],
   "execution_count": 7
  },
  {
   "metadata": {
    "ExecuteTime": {
     "end_time": "2024-09-24T10:43:05.296166Z",
     "start_time": "2024-09-24T10:43:05.290628Z"
    }
   },
   "cell_type": "code",
   "source": "print(\"Heloo World\")",
   "id": "8940c5be671c911f",
   "outputs": [
    {
     "name": "stdout",
     "output_type": "stream",
     "text": [
      "Heloo World\n"
     ]
    }
   ],
   "execution_count": 8
  },
  {
   "metadata": {
    "ExecuteTime": {
     "end_time": "2024-09-24T10:43:05.408938Z",
     "start_time": "2024-09-24T10:43:05.403611Z"
    }
   },
   "cell_type": "code",
   "source": "print(\"10 + 20\")",
   "id": "f91f45253e3be9b5",
   "outputs": [
    {
     "name": "stdout",
     "output_type": "stream",
     "text": [
      "10 + 20\n"
     ]
    }
   ],
   "execution_count": 9
  },
  {
   "metadata": {
    "ExecuteTime": {
     "end_time": "2024-09-24T10:43:05.497849Z",
     "start_time": "2024-09-24T10:43:05.493623Z"
    }
   },
   "cell_type": "code",
   "source": "print(2+3)",
   "id": "eb23e782dfb191e8",
   "outputs": [
    {
     "name": "stdout",
     "output_type": "stream",
     "text": [
      "5\n"
     ]
    }
   ],
   "execution_count": 10
  },
  {
   "metadata": {
    "ExecuteTime": {
     "end_time": "2024-09-24T10:43:05.539798Z",
     "start_time": "2024-09-24T10:43:05.535841Z"
    }
   },
   "cell_type": "code",
   "source": [
    "hello = \"hello\"\n",
    "world = \"world\"\n",
    "\n",
    "print(hello, world)"
   ],
   "id": "5f9262f53f46153f",
   "outputs": [
    {
     "name": "stdout",
     "output_type": "stream",
     "text": [
      "hello world\n"
     ]
    }
   ],
   "execution_count": 11
  },
  {
   "metadata": {},
   "cell_type": "markdown",
   "source": [
    "# Variablenames \n",
    "* snake_case\n",
    "* \n",
    "* Name mangeling:\n",
    "* _ -> protected\n",
    "* __ -> private\n"
   ],
   "id": "3cd0622c1d5bc9e6"
  },
  {
   "metadata": {
    "ExecuteTime": {
     "end_time": "2024-09-24T10:43:05.580183Z",
     "start_time": "2024-09-24T10:43:05.575330Z"
    }
   },
   "cell_type": "code",
   "source": [
    "# Slicing\n",
    "balls = [1,2,3,4]\n",
    "\n",
    "half_balls = balls[2:]\n",
    "\n",
    "print(half_balls)"
   ],
   "id": "88085cf42bd65f72",
   "outputs": [
    {
     "name": "stdout",
     "output_type": "stream",
     "text": [
      "[3, 4]\n"
     ]
    }
   ],
   "execution_count": 12
  },
  {
   "metadata": {
    "ExecuteTime": {
     "end_time": "2024-09-24T10:43:05.609814Z",
     "start_time": "2024-09-24T10:43:05.604617Z"
    }
   },
   "cell_type": "code",
   "source": [
    "\n",
    "def info():\n",
    "    print(id(t1), id(t2), id(t1) == id(t2))\n",
    "\n",
    "t1 = 1\n",
    "t2 = 2/2\n",
    "info()\n",
    "\n",
    "t1 = \"abc\"\n",
    "t2 = \"abc\"\n",
    "info()"
   ],
   "id": "d6abbee3f16894e5",
   "outputs": [
    {
     "name": "stdout",
     "output_type": "stream",
     "text": [
      "140722699291064 1807776538416 False\n",
      "140722698204992 140722698204992 True\n"
     ]
    }
   ],
   "execution_count": 13
  },
  {
   "metadata": {
    "ExecuteTime": {
     "end_time": "2024-09-24T10:43:05.635941Z",
     "start_time": "2024-09-24T10:43:05.628784Z"
    }
   },
   "cell_type": "code",
   "source": [
    "demo = \"this is a text\"\n",
    "print(demo)\n",
    "\n",
    "# demo[2] = 'h' Error\n",
    "\n",
    "demo.replace(demo[2], 'h', 1)"
   ],
   "id": "6935980282897ead",
   "outputs": [
    {
     "name": "stdout",
     "output_type": "stream",
     "text": [
      "this is a text\n"
     ]
    },
    {
     "data": {
      "text/plain": [
       "'thhs is a text'"
      ]
     },
     "execution_count": 14,
     "metadata": {},
     "output_type": "execute_result"
    }
   ],
   "execution_count": 14
  },
  {
   "metadata": {
    "ExecuteTime": {
     "end_time": "2024-09-24T10:43:05.678709Z",
     "start_time": "2024-09-24T10:43:05.674131Z"
    }
   },
   "cell_type": "code",
   "source": [
    "age = 34\n",
    "\n",
    "print(f\"{age=}\")\n",
    "print(f\"{age:1}\")\n",
    "print(f\"Age: {age}\")\n",
    "print(f\"{str(1)    + \"abc\"=}\")\n",
    "\n",
    "print(\"{:01}:{:02}:{:03}\".format(1,2,3))\n"
   ],
   "id": "3095d4e9e2d7949d",
   "outputs": [
    {
     "name": "stdout",
     "output_type": "stream",
     "text": [
      "age=34\n",
      "34\n",
      "Age: 34\n",
      "str(1)    + \"abc\"='1abc'\n",
      "1:02:003\n"
     ]
    }
   ],
   "execution_count": 15
  },
  {
   "metadata": {
    "ExecuteTime": {
     "end_time": "2024-09-24T10:43:05.713302Z",
     "start_time": "2024-09-24T10:43:05.707725Z"
    }
   },
   "cell_type": "code",
   "source": [
    "the_list = [1, 2, 3]\n",
    "print(the_list)\n",
    "the_list.append(\"10\")\n",
    "print(the_list)\n",
    "print(the_list.pop(), the_list)"
   ],
   "id": "5d9eb47863bf1cec",
   "outputs": [
    {
     "name": "stdout",
     "output_type": "stream",
     "text": [
      "[1, 2, 3]\n",
      "[1, 2, 3, '10']\n",
      "10 [1, 2, 3]\n"
     ]
    }
   ],
   "execution_count": 16
  },
  {
   "metadata": {
    "ExecuteTime": {
     "end_time": "2024-09-24T10:43:05.728770Z",
     "start_time": "2024-09-24T10:43:05.724699Z"
    }
   },
   "cell_type": "code",
   "source": [
    "the_tuple = 1,\n",
    "print(the_tuple, \"\" \"\" \"\" \"\" \"\" \"\" \"\" \"\" \"\" \"\" \"\" \"\" \"\")"
   ],
   "id": "96bb16fad64d1144",
   "outputs": [
    {
     "name": "stdout",
     "output_type": "stream",
     "text": [
      "(1,) \n"
     ]
    }
   ],
   "execution_count": 17
  },
  {
   "metadata": {
    "ExecuteTime": {
     "end_time": "2024-09-24T10:43:09.178914Z",
     "start_time": "2024-09-24T10:43:05.748234Z"
    }
   },
   "cell_type": "code",
   "source": [
    "import math\n",
    "def is_prime(n: int) -> bool:\n",
    "    if n == 0 or n == 1:\n",
    "        return False\n",
    "    \n",
    "    for _i in range(2, int(math.sqrt(n)) + 1):\n",
    "        if n % _i == 0:\n",
    "            return False\n",
    "    \n",
    "    return True\n",
    "\n",
    "number = int(input(\"Enter range: \"))\n",
    "\n",
    "for i in range(number):\n",
    "    if is_prime(i):\n",
    "        print(i)"
   ],
   "id": "fe8c814718b15ec4",
   "outputs": [
    {
     "name": "stdout",
     "output_type": "stream",
     "text": [
      "2\n",
      "3\n",
      "5\n",
      "7\n"
     ]
    }
   ],
   "execution_count": 18
  },
  {
   "metadata": {
    "ExecuteTime": {
     "end_time": "2024-09-24T11:05:17.985004Z",
     "start_time": "2024-09-24T11:05:17.978783Z"
    }
   },
   "cell_type": "code",
   "source": [
    "class Dog:\n",
    "    name = \"heinz\"\n",
    "    age = 23\n",
    "    \n",
    "    _id = 123 # protected _\n",
    "    __parent_name = \"felix\" # private __\n",
    "\n",
    "    def talk_to_me(self) -> str:\n",
    "        return f\"Hello, my name is {self.name} and I am {self.age} years old\"\n",
    "    \n",
    "    def __str__(self):\n",
    "        return f\"{self.name} is {self.age} years old\"\n",
    "    \n",
    "dog = Dog()\n",
    "print(dog.talk_to_me())\n",
    "Dog.name = \"Dietma\"\n",
    "Dog.age = 1000\n",
    "print(dog)\n"
   ],
   "id": "a0a58b9d54ee6603",
   "outputs": [
    {
     "name": "stdout",
     "output_type": "stream",
     "text": [
      "Hello, my name is heinz and I am 23 years old\n",
      "Dietma is 1000 years old\n"
     ]
    }
   ],
   "execution_count": 45
  },
  {
   "metadata": {
    "ExecuteTime": {
     "end_time": "2024-09-24T11:08:03.201683Z",
     "start_time": "2024-09-24T11:08:03.194456Z"
    }
   },
   "cell_type": "code",
   "source": [
    "class Person:\n",
    "    name = \"unknown\"\n",
    "    \n",
    "    # constructor\n",
    "    def __init__(self, name):\n",
    "        self.name = name\n",
    "    \n",
    "    def __del__(self): # destructor\n",
    "        print(f\"{self} is dying\")\n",
    "    \n",
    "    def __str__(self):\n",
    "        return f\"Person{{{self.name}}}\"\n",
    "    \n",
    "person = Person(\"Guido\")\n",
    "\n",
    "print(person)\n",
    "\n",
    "del person\n",
    "\n",
    "    "
   ],
   "id": "e0aeb613f1d7496a",
   "outputs": [
    {
     "name": "stdout",
     "output_type": "stream",
     "text": [
      "Person{Guido}\n",
      "Person{Guido} is dying\n"
     ]
    }
   ],
   "execution_count": 70
  }
 ],
 "metadata": {
  "kernelspec": {
   "display_name": "Python 3",
   "language": "python",
   "name": "python3"
  },
  "language_info": {
   "codemirror_mode": {
    "name": "ipython",
    "version": 2
   },
   "file_extension": ".py",
   "mimetype": "text/x-python",
   "name": "python",
   "nbconvert_exporter": "python",
   "pygments_lexer": "ipython2",
   "version": "2.7.6"
  }
 },
 "nbformat": 4,
 "nbformat_minor": 5
}
