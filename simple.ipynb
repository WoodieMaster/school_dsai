{
 "cells": [
  {
   "metadata": {},
   "cell_type": "markdown",
   "source": "# Python Intro",
   "id": "8a77807f92f26ee"
  },
  {
   "metadata": {
    "ExecuteTime": {
     "end_time": "2024-09-18T07:10:44.248684Z",
     "start_time": "2024-09-18T07:10:44.244613Z"
    }
   },
   "cell_type": "code",
   "source": [
    "import sys\n",
    "print(sys.version)"
   ],
   "id": "7df9140457caed5e",
   "outputs": [
    {
     "name": "stdout",
     "output_type": "stream",
     "text": [
      "3.12.0 (tags/v3.12.0:0fb18b0, Oct  2 2023, 13:03:39) [MSC v.1935 64 bit (AMD64)]\n"
     ]
    }
   ],
   "execution_count": 4
  },
  {
   "metadata": {
    "ExecuteTime": {
     "end_time": "2024-09-18T07:10:44.296301Z",
     "start_time": "2024-09-18T07:10:44.291483Z"
    }
   },
   "cell_type": "code",
   "source": "print(\"Heloo World\")",
   "id": "8940c5be671c911f",
   "outputs": [
    {
     "name": "stdout",
     "output_type": "stream",
     "text": [
      "Heloo World\n"
     ]
    }
   ],
   "execution_count": 5
  },
  {
   "metadata": {
    "ExecuteTime": {
     "end_time": "2024-09-18T07:10:44.337257Z",
     "start_time": "2024-09-18T07:10:44.333773Z"
    }
   },
   "cell_type": "code",
   "source": "print(\"10 + 20\")",
   "id": "f91f45253e3be9b5",
   "outputs": [
    {
     "name": "stdout",
     "output_type": "stream",
     "text": [
      "10 + 20\n"
     ]
    }
   ],
   "execution_count": 6
  },
  {
   "metadata": {
    "ExecuteTime": {
     "end_time": "2024-09-18T07:10:44.376278Z",
     "start_time": "2024-09-18T07:10:44.373111Z"
    }
   },
   "cell_type": "code",
   "source": "print(2+3)",
   "id": "eb23e782dfb191e8",
   "outputs": [
    {
     "name": "stdout",
     "output_type": "stream",
     "text": [
      "5\n"
     ]
    }
   ],
   "execution_count": 7
  },
  {
   "metadata": {
    "ExecuteTime": {
     "end_time": "2024-09-18T07:10:44.423625Z",
     "start_time": "2024-09-18T07:10:44.419745Z"
    }
   },
   "cell_type": "code",
   "source": [
    "hello = \"hello\"\n",
    "world = \"world\"\n",
    "\n",
    "print(hello, world)"
   ],
   "id": "5f9262f53f46153f",
   "outputs": [
    {
     "name": "stdout",
     "output_type": "stream",
     "text": [
      "hello world\n"
     ]
    }
   ],
   "execution_count": 8
  },
  {
   "metadata": {},
   "cell_type": "markdown",
   "source": [
    "# Variablenames \n",
    "* snake_case\n",
    "* \n",
    "* Name mangeling:\n",
    "* _ -> protected\n",
    "* __ -> private\n"
   ],
   "id": "3cd0622c1d5bc9e6"
  },
  {
   "metadata": {
    "ExecuteTime": {
     "end_time": "2024-09-18T07:10:44.535368Z",
     "start_time": "2024-09-18T07:10:44.531185Z"
    }
   },
   "cell_type": "code",
   "source": [
    "# Slicing\n",
    "balls = [1,2,3,4]\n",
    "\n",
    "half_balls = balls[2:]\n",
    "\n",
    "print(half_balls)"
   ],
   "id": "88085cf42bd65f72",
   "outputs": [
    {
     "name": "stdout",
     "output_type": "stream",
     "text": [
      "[3, 4]\n"
     ]
    }
   ],
   "execution_count": 9
  },
  {
   "metadata": {
    "ExecuteTime": {
     "end_time": "2024-09-18T07:18:17.386298Z",
     "start_time": "2024-09-18T07:18:17.379798Z"
    }
   },
   "cell_type": "code",
   "source": [
    "\n",
    "def info():\n",
    "    print(id(t1), id(t2), id(t1) == id(t2))\n",
    "\n",
    "t1 = 1\n",
    "t2 = 2/2\n",
    "info()\n",
    "\n",
    "t1 = \"abc\"\n",
    "t2 = \"abc\"\n",
    "info()"
   ],
   "id": "d6abbee3f16894e5",
   "outputs": [
    {
     "name": "stdout",
     "output_type": "stream",
     "text": [
      "140722537810360 2573445844304 False\n",
      "140722536724288 140722536724288 True\n"
     ]
    }
   ],
   "execution_count": 67
  },
  {
   "metadata": {
    "ExecuteTime": {
     "end_time": "2024-09-18T07:22:12.536190Z",
     "start_time": "2024-09-18T07:22:12.530032Z"
    }
   },
   "cell_type": "code",
   "source": [
    "demo = \"this is a text\"\n",
    "print(demo)\n",
    "\n",
    "# demo[2] = 'h' Error\n",
    "\n",
    "demo.replace(demo[2], 'h', 1)"
   ],
   "id": "6935980282897ead",
   "outputs": [
    {
     "name": "stdout",
     "output_type": "stream",
     "text": [
      "this is a text\n"
     ]
    },
    {
     "data": {
      "text/plain": [
       "'thhs is a text'"
      ]
     },
     "execution_count": 70,
     "metadata": {},
     "output_type": "execute_result"
    }
   ],
   "execution_count": 70
  },
  {
   "metadata": {
    "ExecuteTime": {
     "end_time": "2024-09-18T07:28:40.663240Z",
     "start_time": "2024-09-18T07:28:40.657492Z"
    }
   },
   "cell_type": "code",
   "source": [
    "age = 34\n",
    "\n",
    "print(f\"{age=}\")\n",
    "print(f\"{age:1}\")\n",
    "print(f\"Age: {age}\")\n",
    "print(f\"{str(1)    + \"abc\"=}\")\n",
    "\n",
    "print(\"{:01}:{:02}:{:03}\".format(1,2,3))\n"
   ],
   "id": "3095d4e9e2d7949d",
   "outputs": [
    {
     "name": "stdout",
     "output_type": "stream",
     "text": [
      "age=34\n",
      "34\n",
      "Age: 34\n",
      "str(1)    + \"abc\"='1abc'\n",
      "1:02:003\n"
     ]
    }
   ],
   "execution_count": 83
  },
  {
   "metadata": {
    "ExecuteTime": {
     "end_time": "2024-09-18T07:39:48.365450Z",
     "start_time": "2024-09-18T07:39:48.359893Z"
    }
   },
   "cell_type": "code",
   "source": [
    "the_list = [1, 2, 3]\n",
    "print(the_list)\n",
    "the_list.append(\"10\")\n",
    "print(the_list)\n",
    "print(the_list.pop(), the_list)"
   ],
   "id": "5d9eb47863bf1cec",
   "outputs": [
    {
     "name": "stdout",
     "output_type": "stream",
     "text": [
      "[1, 2, 3]\n",
      "[1, 2, 3, '10']\n",
      "10 [1, 2, 3]\n"
     ]
    }
   ],
   "execution_count": 88
  },
  {
   "metadata": {
    "ExecuteTime": {
     "end_time": "2024-09-18T07:41:40.201770Z",
     "start_time": "2024-09-18T07:41:40.198128Z"
    }
   },
   "cell_type": "code",
   "source": [
    "the_tuple = 1,\n",
    "print(the_tuple, \"\" \"\" \"\" \"\" \"\" \"\" \"\" \"\" \"\" \"\" \"\" \"\" \"\")"
   ],
   "id": "96bb16fad64d1144",
   "outputs": [
    {
     "name": "stdout",
     "output_type": "stream",
     "text": [
      "(1,) \n"
     ]
    }
   ],
   "execution_count": 97
  },
  {
   "metadata": {
    "ExecuteTime": {
     "end_time": "2024-09-18T09:36:07.643630Z",
     "start_time": "2024-09-18T09:36:05.175048Z"
    }
   },
   "cell_type": "code",
   "source": [
    "import math\n",
    "def is_prime(n: int) -> bool:\n",
    "    if n == 0 or n == 1:\n",
    "        return False\n",
    "    \n",
    "    for _i in range(2, int(math.sqrt(n)) + 1):\n",
    "        if n % _i == 0:\n",
    "            return False\n",
    "    \n",
    "    return True\n",
    "\n",
    "number = int(input(\"Enter range: \"))\n",
    "\n",
    "for i in range(number):\n",
    "    if is_prime(i):\n",
    "        print(i)"
   ],
   "id": "fe8c814718b15ec4",
   "outputs": [
    {
     "name": "stdout",
     "output_type": "stream",
     "text": [
      "2\n",
      "3\n",
      "5\n",
      "7\n",
      "11\n",
      "13\n",
      "17\n",
      "19\n",
      "23\n",
      "29\n",
      "31\n",
      "37\n",
      "41\n",
      "43\n",
      "47\n",
      "53\n",
      "59\n",
      "61\n",
      "67\n",
      "71\n",
      "73\n",
      "79\n",
      "83\n",
      "89\n",
      "97\n"
     ]
    }
   ],
   "execution_count": 8
  }
 ],
 "metadata": {
  "kernelspec": {
   "display_name": "Python 3",
   "language": "python",
   "name": "python3"
  },
  "language_info": {
   "codemirror_mode": {
    "name": "ipython",
    "version": 2
   },
   "file_extension": ".py",
   "mimetype": "text/x-python",
   "name": "python",
   "nbconvert_exporter": "python",
   "pygments_lexer": "ipython2",
   "version": "2.7.6"
  }
 },
 "nbformat": 4,
 "nbformat_minor": 5
}
