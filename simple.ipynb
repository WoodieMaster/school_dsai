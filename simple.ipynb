{
 "cells": [
  {
   "metadata": {},
   "cell_type": "markdown",
   "source": "# Python Intro",
   "id": "8a77807f92f26ee"
  },
  {
   "metadata": {
    "ExecuteTime": {
     "end_time": "2024-09-17T10:44:15.855121Z",
     "start_time": "2024-09-17T10:44:15.850209Z"
    }
   },
   "cell_type": "code",
   "source": [
    "import sys\n",
    "print(sys.version)"
   ],
   "id": "7df9140457caed5e",
   "outputs": [
    {
     "name": "stdout",
     "output_type": "stream",
     "text": [
      "3.12.0 (tags/v3.12.0:0fb18b0, Oct  2 2023, 13:03:39) [MSC v.1935 64 bit (AMD64)]\n"
     ]
    }
   ],
   "execution_count": 2
  },
  {
   "metadata": {
    "ExecuteTime": {
     "end_time": "2024-09-17T10:49:54.521589Z",
     "start_time": "2024-09-17T10:49:54.517131Z"
    }
   },
   "cell_type": "code",
   "source": "print(\"Heloo World\")",
   "id": "8940c5be671c911f",
   "outputs": [
    {
     "name": "stdout",
     "output_type": "stream",
     "text": [
      "Heloo World\n"
     ]
    }
   ],
   "execution_count": 5
  },
  {
   "metadata": {
    "ExecuteTime": {
     "end_time": "2024-09-17T10:50:43.423934Z",
     "start_time": "2024-09-17T10:50:43.419585Z"
    }
   },
   "cell_type": "code",
   "source": "print(\"10 + 20\")",
   "id": "f91f45253e3be9b5",
   "outputs": [
    {
     "name": "stdout",
     "output_type": "stream",
     "text": [
      "10 + 20\n"
     ]
    }
   ],
   "execution_count": 8
  },
  {
   "metadata": {
    "ExecuteTime": {
     "end_time": "2024-09-17T10:50:30.787370Z",
     "start_time": "2024-09-17T10:50:30.783403Z"
    }
   },
   "cell_type": "code",
   "source": "print(2+3)",
   "id": "eb23e782dfb191e8",
   "outputs": [
    {
     "name": "stdout",
     "output_type": "stream",
     "text": [
      "5\n"
     ]
    }
   ],
   "execution_count": 6
  },
  {
   "metadata": {
    "ExecuteTime": {
     "end_time": "2024-09-17T10:56:40.242772Z",
     "start_time": "2024-09-17T10:56:40.237651Z"
    }
   },
   "cell_type": "code",
   "source": [
    "hello = \"hello\"\n",
    "world = \"world\"\n",
    "\n",
    "print(hello, world)"
   ],
   "id": "5f9262f53f46153f",
   "outputs": [
    {
     "name": "stdout",
     "output_type": "stream",
     "text": [
      "hello world\n"
     ]
    }
   ],
   "execution_count": 12
  },
  {
   "metadata": {},
   "cell_type": "markdown",
   "source": [
    "# Variablenames \n",
    "* snake_case\n",
    "* \n",
    "* Name mangeling:\n",
    "* _ -> protected\n",
    "* __ -> private\n"
   ],
   "id": "3cd0622c1d5bc9e6"
  },
  {
   "metadata": {
    "ExecuteTime": {
     "end_time": "2024-09-17T11:10:07.271234Z",
     "start_time": "2024-09-17T11:10:07.267207Z"
    }
   },
   "cell_type": "code",
   "source": [
    "# Slicing\n",
    "balls = [1,2,3,4]\n",
    "\n",
    "half_balls = balls[2:]\n",
    "\n",
    "print(half_balls)"
   ],
   "id": "88085cf42bd65f72",
   "outputs": [
    {
     "name": "stdout",
     "output_type": "stream",
     "text": [
      "[3, 4]\n"
     ]
    }
   ],
   "execution_count": 15
  }
 ],
 "metadata": {
  "kernelspec": {
   "display_name": "Python 3",
   "language": "python",
   "name": "python3"
  },
  "language_info": {
   "codemirror_mode": {
    "name": "ipython",
    "version": 2
   },
   "file_extension": ".py",
   "mimetype": "text/x-python",
   "name": "python",
   "nbconvert_exporter": "python",
   "pygments_lexer": "ipython2",
   "version": "2.7.6"
  }
 },
 "nbformat": 4,
 "nbformat_minor": 5
}
