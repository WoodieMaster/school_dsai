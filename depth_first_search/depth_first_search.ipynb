{
 "cells": [
  {
   "metadata": {},
   "cell_type": "markdown",
   "source": [
    "# Cell\n",
    "- class representing a cell"
   ],
   "id": "8d4b42935f1f435c"
  },
  {
   "metadata": {
    "ExecuteTime": {
     "end_time": "2024-10-16T07:24:33.276999Z",
     "start_time": "2024-10-16T07:24:33.273427Z"
    }
   },
   "cell_type": "code",
   "source": [
    "from enum import Enum\n",
    "\n",
    "class CellType(Enum):\n",
    "    EMPTY = '_'\n",
    "    OBSTACLE = '#'\n",
    "    START = 'S'\n",
    "    GOAL = 'G'\n",
    "    PATH = '*'\n",
    "    DEBUG = '?'\n"
   ],
   "id": "cfe22569f52357c2",
   "outputs": [],
   "execution_count": 18
  },
  {
   "metadata": {
    "ExecuteTime": {
     "end_time": "2024-10-16T07:24:33.298318Z",
     "start_time": "2024-10-16T07:24:33.292835Z"
    }
   },
   "cell_type": "code",
   "source": [
    "cell = CellType.START\n",
    "print(f\"name: {cell.name} value: {cell.value}\")"
   ],
   "id": "1e44eca6470f7152",
   "outputs": [
    {
     "name": "stdout",
     "output_type": "stream",
     "text": [
      "name: START value: S\n"
     ]
    }
   ],
   "execution_count": 19
  },
  {
   "metadata": {},
   "cell_type": "markdown",
   "source": "# Labyrinth\n",
   "id": "46e8c644a42a9423"
  },
  {
   "metadata": {
    "ExecuteTime": {
     "end_time": "2024-10-16T07:37:43.419026Z",
     "start_time": "2024-10-16T07:37:43.413864Z"
    }
   },
   "cell_type": "code",
   "source": [
    "import random\n",
    "\n",
    "class Labyrinth:\n",
    "    def __init__(self, rows: int, cols: int, spread: float):\n",
    "        \"\"\"spread: float between 0 and 1 -> percent of cells that will be obstacles\"\"\"\n",
    "        self.__rows = rows\n",
    "        self.__cols = cols\n",
    "        self.__spread = spread\n",
    "        \n",
    "        # setup grid\n",
    "        self.__grid = [[ CellType.EMPTY for _ in range(cols) ] for _ in range(rows) ]\n",
    "        \n",
    "        self.__fill_with_obstacles()\n",
    "        pass\n",
    "    \n",
    "    def __fill_with_obstacles(self):\n",
    "        for r in self.__grid:\n",
    "            for i in range(self.__cols):\n",
    "                if random.random() < self.__spread:\n",
    "                    r[i] = CellType.OBSTACLE\n",
    "    \n",
    "    def __str__(self) -> str:\n",
    "        result = \"\"\n",
    "        for r in self.__grid:\n",
    "            for c in r:\n",
    "                result += c.value\n",
    "            result += \"\\n\"\n",
    "        return result"
   ],
   "id": "700fed68243efc70",
   "outputs": [],
   "execution_count": 154
  },
  {
   "metadata": {
    "ExecuteTime": {
     "end_time": "2024-10-16T07:40:28.127154Z",
     "start_time": "2024-10-16T07:40:28.122265Z"
    }
   },
   "cell_type": "code",
   "source": [
    "\n",
    "lab = Labyrinth(20,40, .5)\n",
    "print(str(lab), str(lab).count(str(CellType.OBSTACLE.value)), 20 * 40)"
   ],
   "id": "c686b34c014cbe09",
   "outputs": [
    {
     "name": "stdout",
     "output_type": "stream",
     "text": [
      "_##_##_#_###___#_##_#####_##__#__##_____\n",
      "#_##__#_##__#_###_#___##__####__######__\n",
      "###_#_____##_#_#_#_##_##_#_###__#__#__##\n",
      "#__###_#__#_##____##_###___#__#__#####__\n",
      "###____##___#_##_##_#__##___###_______#_\n",
      "_#_###___#_#_#_##_##_##_#####__#########\n",
      "__#_##_#_###___###_###_##_###__##_____#_\n",
      "_____##_###_#_##_________###____#_#__#_#\n",
      "#__####_#___#_##_#_#_####_###_#__##_#___\n",
      "_#_#_#_____#_###__#___#####__#_#_#__#_##\n",
      "#_____##___####_###_#######__#####_##__#\n",
      "###___###__##____#_#__##_###_#__###__#_#\n",
      "#_#__##_#__#_#__#####_#____#__##_______#\n",
      "#___#_#___#_###__#_#______##_####_____#_\n",
      "_###_####___#_#_#___#_#__#_#______#___#_\n",
      "_#__#__#_#____#__#_##____#_#######_#__#_\n",
      "____######___###__###_#_#_##_######_####\n",
      "_#_###____##_#__#__#_###__########____##\n",
      "#_#_#_____##___###__#__###__###_##_#_##_\n",
      "_##_#__##_###__#__#_#___#_#__#_##_#_____\n",
      " 404 800\n"
     ]
    }
   ],
   "execution_count": 212
  }
 ],
 "metadata": {
  "kernelspec": {
   "display_name": "Python 3",
   "language": "python",
   "name": "python3"
  },
  "language_info": {
   "codemirror_mode": {
    "name": "ipython",
    "version": 2
   },
   "file_extension": ".py",
   "mimetype": "text/x-python",
   "name": "python",
   "nbconvert_exporter": "python",
   "pygments_lexer": "ipython2",
   "version": "2.7.6"
  }
 },
 "nbformat": 4,
 "nbformat_minor": 5
}